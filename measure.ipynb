{
 "cells": [
  {
   "cell_type": "code",
   "execution_count": 49,
   "metadata": {},
   "outputs": [],
   "source": [
    "# To begin using librosa we need to import it, and other tools such as matplotlib and numpy\n",
    "import os\n",
    "import copy as cp\n",
    "from pylab import *\n",
    "import pretty_midi\n",
    "import librosa             # The librosa library\n",
    "import librosa.display     # librosa's display module (for plotting features)\n",
    "import IPython.display     # IPython's display module (for in-line audio)\n",
    "import matplotlib.pyplot as plt # matplotlib plotting functions\n",
    "import matplotlib.style as ms   # plotting style\n",
    "import numpy as np              # numpy numerical functions\n",
    "ms.use('seaborn-muted')         # fancy plot designs\n",
    "from __future__ import print_function # use the print() function from Python3"
   ]
  },
  {
   "cell_type": "code",
   "execution_count": 65,
   "metadata": {},
   "outputs": [],
   "source": [
    "def matrix2notes(m):\n",
    "    # first sort the matrix to make sure starting time is in order\n",
    "    m = array(m)\n",
    "    m = m[argsort(m[:,0]),:]\n",
    "    # transfer the databack to note list\n",
    "    notes=[pretty_midi.Note(start=m[i,0], end=m[i,1], pitch=int(m[i,2]), velocity= int(m[i,3]) ) \n",
    "                            for i in range(size(m,0))]\n",
    "    return notes\n",
    "  "
   ]
  },
  {
   "cell_type": "code",
   "execution_count": 80,
   "metadata": {},
   "outputs": [],
   "source": [
    "class Measure:\n",
    "    def __init__(self, notes=[], beats=[], velocity=100, is_drum=false):\n",
    "        self.length = len(notes)\n",
    "        if not notes[0].isnumeric():\n",
    "            self.notes = [pretty_midi.note_name_to_number(note) for note in notes]\n",
    "        else: \n",
    "            self.notes = notes    # ex. [60, 63, 67, 69, 63, 60]\n",
    "        self.beats = beats    # ex. [1, 1, 1./2, 1./2, 1]\n",
    "        self.velocity = velocity\n",
    "    \n",
    "    \n",
    "    def extend_measure(self, other, velocity=-1):\n",
    "        self.length += other.get_length()\n",
    "        self.notes += other.notes\n",
    "        self.bats += other.beats\n",
    "        if velocity != -1:     # default: do not change velocity\n",
    "            self.velocity = velocity\n",
    "    \n",
    "    def set_velocity(self, velocity):\n",
    "        self.velocity = velocity\n",
    "    \n",
    "    def get_notes(self):\n",
    "        return [pretty_midi.note_number_to_name(note) for note in self.notes]\n",
    "    \n",
    "    def get_beats(self):\n",
    "        return self.beats\n",
    "    \n",
    "    def get_length(self):\n",
    "        return self.length\n",
    "    \n",
    "    def get_velocity(self):\n",
    "        return self.velocity\n",
    "    \n",
    "    \n",
    "    def __str__(self):\n",
    "        return str(self.get_notes())+'\\n'+str(self.get_beats())\n",
    "    \n",
    "    def to_midi_notes(self, bpm=120, velocity=-1):        #returns note list appendable for midi instruments\n",
    "        if velocity == -1: velocity = self.velocity\n",
    "        rate = 1./bpm\n",
    "        starts = []\n",
    "        ends = [self.beats*rate for beat in beats]\n",
    "        starts = [0] + ends[:-1]\n",
    "        notes = [pretty_midi.Note(start=starts[i], end=ends[i], pitch=self.notes[i], velocity=velocity)]\n",
    "        return notes"
   ]
  },
  {
   "cell_type": "code",
   "execution_count": 82,
   "metadata": {},
   "outputs": [
    {
     "name": "stdout",
     "output_type": "stream",
     "text": [
      "4\n"
     ]
    }
   ],
   "source": [
    "notes = ['C4', 'E4', 'G4', 'C4']\n",
    "beats = [1, 1, 1./2, 1./2]\n",
    "new_meas = Measure(notes, beats)\n",
    "print(new_meas.get_length())"
   ]
  },
  {
   "cell_type": "code",
   "execution_count": null,
   "metadata": {},
   "outputs": [],
   "source": []
  }
 ],
 "metadata": {
  "kernelspec": {
   "display_name": "Python 3",
   "language": "python",
   "name": "python3"
  },
  "language_info": {
   "codemirror_mode": {
    "name": "ipython",
    "version": 3
   },
   "file_extension": ".py",
   "mimetype": "text/x-python",
   "name": "python",
   "nbconvert_exporter": "python",
   "pygments_lexer": "ipython3",
   "version": "3.6.3"
  }
 },
 "nbformat": 4,
 "nbformat_minor": 2
}
