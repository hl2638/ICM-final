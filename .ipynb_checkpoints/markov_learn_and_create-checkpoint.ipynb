{
 "cells": [
  {
   "cell_type": "code",
   "execution_count": 5,
   "metadata": {},
   "outputs": [],
   "source": [
    "import measure\n",
    "import markov\n",
    "import pickle\n",
    "\n",
    "def load_markov(filename):\n",
    "    fileObject = open(filename,'r')  \n",
    "    markov = pickle.load(fileObject)\n",
    "    return markov\n",
    "\n",
    "def markov_learn(markov, filename):\n",
    "    #by default, learns channel 0\n",
    "    midi = pretty_midi.PrettyMIDI(filename)\n",
    "    channel = midi.instruments[0]\n",
    "    markov.learn(channel)\n",
    "\n",
    "def save_markov(markov, filename):    \n",
    "    fileObject = open(filename,'wb')\n",
    "    pickle.dump(markov,fileObject)\n",
    "    fileObject.close()    \n",
    "    \n",
    "my_markov = markov.Markov_chain()\n"
   ]
  }
 ],
 "metadata": {
  "kernelspec": {
   "display_name": "Python 3",
   "language": "python",
   "name": "python3"
  },
  "language_info": {
   "codemirror_mode": {
    "name": "ipython",
    "version": 3
   },
   "file_extension": ".py",
   "mimetype": "text/x-python",
   "name": "python",
   "nbconvert_exporter": "python",
   "pygments_lexer": "ipython3",
   "version": "3.6.3"
  }
 },
 "nbformat": 4,
 "nbformat_minor": 2
}
