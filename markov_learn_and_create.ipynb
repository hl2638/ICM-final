{
 "cells": [
  {
   "cell_type": "code",
   "execution_count": 23,
   "metadata": {
    "scrolled": false
   },
   "outputs": [],
   "source": [
    "import measure\n",
    "import markov\n",
    "import pickle\n",
    "import pretty_midi\n",
    "\n",
    "def load_markov(filename):\n",
    "    fileObject = open(filename,'rb')  \n",
    "    markov = pickle.load(fileObject)\n",
    "    return markov\n",
    "\n",
    "def markov_learn(markov, filename):\n",
    "    #by default, learns channel 0\n",
    "    midi = pretty_midi.PrettyMIDI(filename)\n",
    "    channel = midi.instruments[0]\n",
    "    markov.learn(channel)\n",
    "\n",
    "def save_markov(markov, filename):    \n",
    "    fileObject = open(filename,'wb')\n",
    "    pickle.dump(markov,fileObject)\n",
    "    fileObject.close()    \n",
    "    \n"
   ]
  },
  {
   "cell_type": "code",
   "execution_count": 24,
   "metadata": {},
   "outputs": [
    {
     "name": "stdout",
     "output_type": "stream",
     "text": [
      "{58: [68, 66, 63], 59: [66, 68, 71, 64, 63], 61: [68, 63], 63: [73, 71, 75, 70, 66, 59, 68], 64: [71, 70, 68, 67, 59, 76], 66: [58, 68, 59, 64, 80], 67: [61, 75, 71], 68: [73, 71, 68, 75, 76, 64, 70, 58, 59, 80, 78, 67], 70: [78, 73, 80, 75, 64, 63, 58, 68, 79, 88], 71: [75, 68, 80, 78, 83, 76, 63, 64, 59, 70, 82, 85], 73: [80, 75, 68, 70, 82, 79, 63, 64, 71, 87, 83], 75: [73, 68, 75, 71, 83, 82, 85, 78, 63, 67, 80, 87, 90], 76: [71, 68, 75], 78: [73, 80, 70, 71, 76, 66, 92], 79: [80, 70, 83, 76], 80: [73, 85, 79, 87, 75, 82, 70, 71, 68, 80, 78, 83], 82: [80, 78, 75, 71, 70, 73, 79, 87], 83: [73, 75, 71, 82, 80, 87, 95, 94, 90, 92], 84: [87], 85: [87, 85, 82, 75, 73, 83], 87: [75, 80, 85, 84, 92, 95, 83], 88: [87], 90: [78, 83], 92: [97, 80, 83, 94, 61], 94: [85, 87, 92, 83], 95: [94, 83], 97: [99], 99: [97, 104], 104: [80, 73]}\n",
      "\n",
      "\n",
      "\n",
      "{58: 3, 59: 5, 61: 2, 63: 7, 64: 6, 66: 5, 67: 3, 68: 12, 70: 10, 71: 12, 73: 11, 75: 13, 76: 3, 78: 7, 79: 4, 80: 12, 82: 8, 83: 10, 84: 1, 85: 6, 87: 7, 88: 1, 90: 2, 92: 5, 94: 4, 95: 2, 97: 1, 99: 2, 104: 2}\n"
     ]
    },
    {
     "name": "stderr",
     "output_type": "stream",
     "text": [
      "C:\\Users\\hl263\\AppData\\Local\\Continuum\\anaconda3\\lib\\site-packages\\pretty_midi\\pretty_midi.py:100: RuntimeWarning: Tempo, Key or Time signature change events found on non-zero tracks.  This is not a valid type 0 or type 1 MIDI file.  Tempo, Key or Time Signature may be wrong.\n",
      "  RuntimeWarning)\n"
     ]
    }
   ],
   "source": [
    "my_markov = markov.Markov_chain()\n",
    "markov_learn(my_markov, \"FlowerDance.mid\")\n",
    "print(my_markov.next_notes,end=\"\\n\\n\\n\\n\")\n",
    "save_markov(my_markov, \"test_markov\")\n",
    "my_markov = load_markov(\"test_markov\")\n",
    "print(my_markov.note_next_total)"
   ]
  }
 ],
 "metadata": {
  "kernelspec": {
   "display_name": "Python 3",
   "language": "python",
   "name": "python3"
  },
  "language_info": {
   "codemirror_mode": {
    "name": "ipython",
    "version": 3
   },
   "file_extension": ".py",
   "mimetype": "text/x-python",
   "name": "python",
   "nbconvert_exporter": "python",
   "pygments_lexer": "ipython3",
   "version": "3.6.3"
  }
 },
 "nbformat": 4,
 "nbformat_minor": 2
}
